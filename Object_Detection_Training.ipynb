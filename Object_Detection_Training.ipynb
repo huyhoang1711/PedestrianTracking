{
  "cells": [
    {
      "cell_type": "markdown",
      "metadata": {
        "id": "fzqQimttWgX9"
      },
      "source": [
        "## 0. Download dataset"
      ]
    },
    {
      "cell_type": "code",
      "execution_count": null,
      "metadata": {
        "colab": {
          "base_uri": "https://localhost:8080/"
        },
        "id": "o5olGKy-9-8A",
        "outputId": "c9225f9a-ad48-42e1-8e73-6741bff294aa"
      },
      "outputs": [
        {
          "name": "stdout",
          "output_type": "stream",
          "text": [
            "Mounted at /content/drive\n"
          ]
        }
      ],
      "source": [
        "from google.colab import drive\n",
        "drive.mount('/content/drive')"
      ]
    },
    {
      "cell_type": "code",
      "execution_count": null,
      "metadata": {
        "colab": {
          "base_uri": "https://localhost:8080/"
        },
        "id": "dWc6X-CTWgYA",
        "outputId": "aa4ab891-4e76-42f0-cd09-d3f5e0710217"
      },
      "outputs": [
        {
          "name": "stdout",
          "output_type": "stream",
          "text": [
            "--2025-05-18 14:35:18--  https://motchallenge.net/data/MOT17.zip\n",
            "Resolving motchallenge.net (motchallenge.net)... 131.159.19.34, 2a09:80c0:18::1034\n",
            "Connecting to motchallenge.net (motchallenge.net)|131.159.19.34|:443... connected.\n",
            "HTTP request sent, awaiting response... 200 OK\n",
            "Length: 5860214001 (5.5G) [application/zip]\n",
            "Saving to: ‘MOT17.zip’\n",
            "\n",
            "MOT17.zip           100%[===================>]   5.46G  24.4MB/s    in 3m 9s   \n",
            "\n",
            "2025-05-18 14:38:27 (29.6 MB/s) - ‘MOT17.zip’ saved [5860214001/5860214001]\n",
            "\n"
          ]
        }
      ],
      "source": [
        "# way 1\n",
        "!wget https://motchallenge.net/data/MOT17.zip\n"
      ]
    },
    {
      "cell_type": "code",
      "execution_count": null,
      "metadata": {
        "id": "f86KAOjhWgYB"
      },
      "outputs": [],
      "source": [
        "!unzip -qq MOT17.zip"
      ]
    },
    {
      "cell_type": "markdown",
      "metadata": {
        "id": "AKiqvNJDXvYA"
      },
      "source": [
        "## 1. Import libraries"
      ]
    },
    {
      "cell_type": "code",
      "execution_count": null,
      "metadata": {
        "colab": {
          "base_uri": "https://localhost:8080/"
        },
        "id": "9Yuuj3IRYpAz",
        "outputId": "34471548-7051-45fd-db35-b48f68834e06"
      },
      "outputs": [
        {
          "name": "stdout",
          "output_type": "stream",
          "text": [
            "\u001b[2K   \u001b[90m━━━━━━━━━━━━━━━━━━━━━━━━━━━━━━━━━━━━━━━━\u001b[0m \u001b[32m1.0/1.0 MB\u001b[0m \u001b[31m43.8 MB/s\u001b[0m eta \u001b[36m0:00:00\u001b[0m\n",
            "\u001b[2K   \u001b[90m━━━━━━━━━━━━━━━━━━━━━━━━━━━━━━━━━━━━━━━━\u001b[0m \u001b[32m363.4/363.4 MB\u001b[0m \u001b[31m3.8 MB/s\u001b[0m eta \u001b[36m0:00:00\u001b[0m\n",
            "\u001b[2K   \u001b[90m━━━━━━━━━━━━━━━━━━━━━━━━━━━━━━━━━━━━━━━━\u001b[0m \u001b[32m13.8/13.8 MB\u001b[0m \u001b[31m122.0 MB/s\u001b[0m eta \u001b[36m0:00:00\u001b[0m\n",
            "\u001b[2K   \u001b[90m━━━━━━━━━━━━━━━━━━━━━━━━━━━━━━━━━━━━━━━━\u001b[0m \u001b[32m24.6/24.6 MB\u001b[0m \u001b[31m95.4 MB/s\u001b[0m eta \u001b[36m0:00:00\u001b[0m\n",
            "\u001b[2K   \u001b[90m━━━━━━━━━━━━━━━━━━━━━━━━━━━━━━━━━━━━━━━━\u001b[0m \u001b[32m883.7/883.7 kB\u001b[0m \u001b[31m57.1 MB/s\u001b[0m eta \u001b[36m0:00:00\u001b[0m\n",
            "\u001b[2K   \u001b[90m━━━━━━━━━━━━━━━━━━━━━━━━━━━━━━━━━━━━━━━━\u001b[0m \u001b[32m664.8/664.8 MB\u001b[0m \u001b[31m1.3 MB/s\u001b[0m eta \u001b[36m0:00:00\u001b[0m\n",
            "\u001b[2K   \u001b[90m━━━━━━━━━━━━━━━━━━━━━━━━━━━━━━━━━━━━━━━━\u001b[0m \u001b[32m211.5/211.5 MB\u001b[0m \u001b[31m6.4 MB/s\u001b[0m eta \u001b[36m0:00:00\u001b[0m\n",
            "\u001b[2K   \u001b[90m━━━━━━━━━━━━━━━━━━━━━━━━━━━━━━━━━━━━━━━━\u001b[0m \u001b[32m56.3/56.3 MB\u001b[0m \u001b[31m11.2 MB/s\u001b[0m eta \u001b[36m0:00:00\u001b[0m\n",
            "\u001b[2K   \u001b[90m━━━━━━━━━━━━━━━━━━━━━━━━━━━━━━━━━━━━━━━━\u001b[0m \u001b[32m127.9/127.9 MB\u001b[0m \u001b[31m7.4 MB/s\u001b[0m eta \u001b[36m0:00:00\u001b[0m\n",
            "\u001b[2K   \u001b[90m━━━━━━━━━━━━━━━━━━━━━━━━━━━━━━━━━━━━━━━━\u001b[0m \u001b[32m207.5/207.5 MB\u001b[0m \u001b[31m5.9 MB/s\u001b[0m eta \u001b[36m0:00:00\u001b[0m\n",
            "\u001b[2K   \u001b[90m━━━━━━━━━━━━━━━━━━━━━━━━━━━━━━━━━━━━━━━━\u001b[0m \u001b[32m21.1/21.1 MB\u001b[0m \u001b[31m96.4 MB/s\u001b[0m eta \u001b[36m0:00:00\u001b[0m\n",
            "\u001b[?25h"
          ]
        }
      ],
      "source": [
        "!pip install ultralytics -q"
      ]
    },
    {
      "cell_type": "code",
      "execution_count": null,
      "metadata": {
        "colab": {
          "base_uri": "https://localhost:8080/"
        },
        "id": "KTTXJu4PX2vE",
        "outputId": "20ef78c8-30bc-45a0-9b2f-499d0b498465"
      },
      "outputs": [
        {
          "name": "stdout",
          "output_type": "stream",
          "text": [
            "Ultralytics 8.3.139 🚀 Python-3.11.12 torch-2.6.0+cu124 CUDA:0 (Tesla T4, 15095MiB)\n",
            "Setup complete ✅ (2 CPUs, 12.7 GB RAM, 52.4/112.6 GB disk)\n"
          ]
        }
      ],
      "source": [
        "import pandas as pd\n",
        "import os\n",
        "import yaml\n",
        "import shutil\n",
        "import configparser\n",
        "import ultralytics\n",
        "ultralytics.checks()\n",
        "\n",
        "from tqdm import tqdm\n",
        "from ultralytics import YOLO"
      ]
    },
    {
      "cell_type": "markdown",
      "metadata": {
        "id": "0gW5i7_SWgYB"
      },
      "source": [
        "## 2. Convert to YOLO format"
      ]
    },
    {
      "cell_type": "code",
      "execution_count": null,
      "metadata": {
        "id": "OwTyMupgWgYB"
      },
      "outputs": [],
      "source": [
        "def convert_to_yolo_format(bb, img_width, img_height):\n",
        "    x_center = bb['bb_left'] + (bb['bb_width'] / 2)\n",
        "    y_center = bb['bb_top'] + (bb['bb_height'] / 2)\n",
        "\n",
        "    # Normalize the coordinates by the dimensions of the image\n",
        "    x_center /= img_width\n",
        "    y_center /= img_height\n",
        "    bb_width_normalized = bb['bb_width'] / img_width\n",
        "    bb_height_normalized = bb['bb_height'] / img_height\n",
        "\n",
        "    # Clip the values to make sure they are between 0 and 1\n",
        "    x_center = max(min(x_center, 1), 0)\n",
        "    y_center = max(min(y_center, 1), 0)\n",
        "    bb_width_normalized = max(min(bb_width_normalized, 1), 0)\n",
        "    bb_height_normalized = max(min(bb_height_normalized, 1), 0)\n",
        "\n",
        "    return (x_center, y_center, bb_width_normalized, bb_height_normalized)"
      ]
    },
    {
      "cell_type": "code",
      "execution_count": null,
      "metadata": {
        "id": "JL58RczuXt3t"
      },
      "outputs": [],
      "source": [
        "def process_folder(folder_path):\n",
        "    # Read image dimensions from seqinfo.ini\n",
        "    config = configparser.ConfigParser()\n",
        "    config.read(os.path.join(folder_path, 'seqinfo.ini'))\n",
        "    img_width = int(config['Sequence']['imWidth'])\n",
        "    img_height = int(config['Sequence']['imHeight'])\n",
        "\n",
        "    # Load ground truth data\n",
        "    gt_path = os.path.join(folder_path, 'det/det.txt')\n",
        "    gt_data = pd.read_csv(\n",
        "        gt_path,\n",
        "        header=None,\n",
        "        names=['frame', 'id', 'bb_left', 'bb_top', 'bb_width', 'bb_height', 'conf', 'class', 'visibility']\n",
        "    )\n",
        "\n",
        "    labels_folder = os.path.join(folder_path, 'labels')\n",
        "    os.makedirs(labels_folder, exist_ok=True)\n",
        "\n",
        "    for frame_number in gt_data['frame'].unique():\n",
        "        frame_data = gt_data[gt_data['frame'] == frame_number]\n",
        "        label_file = os.path.join(labels_folder, f'{frame_number:06d}.txt')\n",
        "\n",
        "        with open(label_file, 'w') as file:\n",
        "            for _, row in frame_data.iterrows():\n",
        "                yolo_bb = convert_to_yolo_format(row, img_width, img_height)\n",
        "                file.write(f'0 {yolo_bb[0]} {yolo_bb[1]} {yolo_bb[2]} {yolo_bb[3]}\\n')"
      ]
    },
    {
      "cell_type": "code",
      "execution_count": null,
      "metadata": {
        "id": "lhSpTZcxX749"
      },
      "outputs": [],
      "source": [
        "def process_all_folders(base_directory):\n",
        "    # List all subdirectories in the base directory\n",
        "    for folder_name in tqdm(os.listdir(base_directory)):\n",
        "        folder_path = os.path.join(base_directory, folder_name)\n",
        "\n",
        "        # Delete folder not contain 'FRCNN' in name\n",
        "        if 'FRCNN' not in folder_name:\n",
        "            os.system(f'rm -rf {folder_path}')\n",
        "            continue\n",
        "\n",
        "        if os.path.isdir(folder_path):\n",
        "            process_folder(folder_path)"
      ]
    },
    {
      "cell_type": "code",
      "execution_count": null,
      "metadata": {
        "colab": {
          "base_uri": "https://localhost:8080/"
        },
        "id": "9KKyZKgLWgYC",
        "outputId": "4b561f11-b2ef-4640-df26-86c138caec50"
      },
      "outputs": [
        {
          "name": "stderr",
          "output_type": "stream",
          "text": [
            "100%|██████████| 21/21 [00:13<00:00,  1.58it/s]\n",
            "100%|██████████| 21/21 [00:08<00:00,  2.36it/s]\n"
          ]
        }
      ],
      "source": [
        "process_all_folders('MOT17/train')\n",
        "process_all_folders('MOT17/test')"
      ]
    },
    {
      "cell_type": "markdown",
      "metadata": {
        "id": "H00j1AYOWgYD"
      },
      "source": [
        "## 3. Move file"
      ]
    },
    {
      "cell_type": "code",
      "execution_count": null,
      "metadata": {
        "id": "99_TdxY6WgYE"
      },
      "outputs": [],
      "source": [
        "def rename_and_move_files(src_folder, dst_folder, folder_name, file_extension):\n",
        "    for filename in os.listdir(src_folder):\n",
        "        if filename.endswith(file_extension):\n",
        "            # Include folder name in the new filename\n",
        "            new_filename = f'{folder_name}_{filename}'\n",
        "            shutil.move(os.path.join(src_folder, filename), os.path.join(dst_folder, new_filename))"
      ]
    },
    {
      "cell_type": "code",
      "execution_count": null,
      "metadata": {
        "id": "YVmWsaLEiz1A"
      },
      "outputs": [],
      "source": [
        "def move_files_all_folders(base_directory):\n",
        "    images_dir = os.path.join(base_directory, 'images')\n",
        "    labels_dir = os.path.join(base_directory, 'labels')\n",
        "    os.makedirs(images_dir, exist_ok=True)\n",
        "    os.makedirs(labels_dir, exist_ok=True)\n",
        "\n",
        "    for folder_name in tqdm(os.listdir(base_directory)):\n",
        "        if folder_name in ['images', 'labels']:  # Skip these folders\n",
        "            continue\n",
        "\n",
        "        folder_path = os.path.join(base_directory, folder_name)\n",
        "        if os.path.isdir(folder_path):\n",
        "            rename_and_move_files(os.path.join(folder_path, 'img1'), images_dir, folder_name, '.jpg')\n",
        "            rename_and_move_files(os.path.join(folder_path, 'labels'), labels_dir, folder_name, '.txt')"
      ]
    },
    {
      "cell_type": "code",
      "execution_count": null,
      "metadata": {
        "colab": {
          "base_uri": "https://localhost:8080/"
        },
        "id": "YQ04pgWTWgYE",
        "outputId": "c5742331-b2d0-4978-8e25-00cc7ab883c2"
      },
      "outputs": [
        {
          "name": "stderr",
          "output_type": "stream",
          "text": [
            "100%|██████████| 9/9 [00:00<00:00, 24.34it/s]\n",
            "100%|██████████| 9/9 [00:00<00:00, 18.54it/s]\n"
          ]
        }
      ],
      "source": [
        "move_files_all_folders(r'MOT17/train')\n",
        "move_files_all_folders(r'MOT17/test')"
      ]
    },
    {
      "cell_type": "code",
      "execution_count": null,
      "metadata": {
        "id": "ao-bBHNJWgYE"
      },
      "outputs": [],
      "source": [
        "def delete_subfolders(base_directory):\n",
        "    for folder_name in os.listdir(base_directory):\n",
        "        folder_path = os.path.join(base_directory, folder_name)\n",
        "        if os.path.isdir(folder_path) and folder_name not in ['images', 'labels']:\n",
        "            shutil.rmtree(folder_path)\n",
        "            print(f\"Deleted folder: {folder_name}\")"
      ]
    },
    {
      "cell_type": "code",
      "execution_count": null,
      "metadata": {
        "colab": {
          "base_uri": "https://localhost:8080/"
        },
        "id": "xqfRtOBKWgYF",
        "outputId": "961ebc33-9d83-4cb8-8467-3062cf1dcd56",
        "scrolled": true
      },
      "outputs": [
        {
          "name": "stdout",
          "output_type": "stream",
          "text": [
            "Deleted folder: MOT17-10-FRCNN\n",
            "Deleted folder: MOT17-05-FRCNN\n",
            "Deleted folder: MOT17-11-FRCNN\n",
            "Deleted folder: MOT17-13-FRCNN\n",
            "Deleted folder: MOT17-04-FRCNN\n",
            "Deleted folder: MOT17-02-FRCNN\n",
            "Deleted folder: MOT17-09-FRCNN\n",
            "Deleted folder: MOT17-06-FRCNN\n",
            "Deleted folder: MOT17-14-FRCNN\n",
            "Deleted folder: MOT17-12-FRCNN\n",
            "Deleted folder: MOT17-03-FRCNN\n",
            "Deleted folder: MOT17-07-FRCNN\n",
            "Deleted folder: MOT17-01-FRCNN\n",
            "Deleted folder: MOT17-08-FRCNN\n"
          ]
        }
      ],
      "source": [
        "# Delete all subfolders except 'images' and 'labels'\n",
        "delete_subfolders('MOT17/train')\n",
        "delete_subfolders('MOT17/test')"
      ]
    },
    {
      "cell_type": "markdown",
      "metadata": {
        "id": "iLJmRT8DWgYF"
      },
      "source": [
        "## 4. Create yaml file"
      ]
    },
    {
      "cell_type": "code",
      "execution_count": null,
      "metadata": {
        "id": "EkAwiV0PWgYF"
      },
      "outputs": [],
      "source": [
        "class_labels = [\n",
        "    'objects'\n",
        "]\n",
        "dataset_root_dir = os.path.join(\n",
        "    os.getcwd(),\n",
        "    'MOT17'\n",
        ")\n",
        "yolo_yaml_path = os.path.join(\n",
        "    dataset_root_dir,\n",
        "    'mot17_data.yml'\n",
        ")\n",
        "\n",
        "data_yaml = {\n",
        "    'path': dataset_root_dir,\n",
        "    'train': 'train/images',\n",
        "    'val': 'test/images',\n",
        "    'nc': len(class_labels),\n",
        "    'names': class_labels\n",
        "}\n",
        "\n",
        "with open(yolo_yaml_path, 'w') as f:\n",
        "    yaml.dump(data_yaml, f, default_flow_style=False)"
      ]
    },
    {
      "cell_type": "markdown",
      "metadata": {
        "id": "YSobHMSKWgYF"
      },
      "source": [
        "## 5. Training"
      ]
    },
    {
      "cell_type": "code",
      "execution_count": null,
      "metadata": {
        "colab": {
          "base_uri": "https://localhost:8080/"
        },
        "id": "gZVIt2Z-WgYF",
        "outputId": "8e113c57-60c6-470f-9453-50964d0e9ed5",
        "scrolled": false
      },
      "outputs": [
        {
          "name": "stdout",
          "output_type": "stream",
          "text": [
            "Downloading https://github.com/ultralytics/assets/releases/download/v8.3.0/yolov8s.pt to 'yolov8s.pt'...\n"
          ]
        },
        {
          "name": "stderr",
          "output_type": "stream",
          "text": [
            "100%|██████████| 21.5M/21.5M [00:00<00:00, 56.9MB/s]\n"
          ]
        },
        {
          "name": "stdout",
          "output_type": "stream",
          "text": [
            "Ultralytics 8.3.139 🚀 Python-3.11.12 torch-2.6.0+cu124 CUDA:0 (Tesla T4, 15095MiB)\n",
            "\u001b[34m\u001b[1mengine/trainer: \u001b[0magnostic_nms=False, amp=True, augment=False, auto_augment=randaugment, batch=-1, bgr=0.0, box=7.5, cache=False, cfg=None, classes=None, close_mosaic=10, cls=0.5, conf=None, copy_paste=0.0, copy_paste_mode=flip, cos_lr=False, cutmix=0.0, data=/content/MOT17/mot17_data.yml, degrees=0.0, deterministic=True, device=None, dfl=1.5, dnn=False, dropout=0.0, dynamic=False, embed=None, epochs=30, erasing=0.4, exist_ok=False, fliplr=0.5, flipud=0.0, format=torchscript, fraction=1.0, freeze=None, half=False, hsv_h=0.015, hsv_s=0.7, hsv_v=0.4, imgsz=640, int8=False, iou=0.7, keras=False, kobj=1.0, line_width=None, lr0=0.01, lrf=0.01, mask_ratio=4, max_det=300, mixup=0.0, mode=train, model=yolov8s.pt, momentum=0.937, mosaic=1.0, multi_scale=False, name=yolov8s_mot17_det, nbs=64, nms=False, opset=None, optimize=False, optimizer=auto, overlap_mask=True, patience=100, perspective=0.0, plots=True, pose=12.0, pretrained=True, profile=False, project=models/yolo, rect=False, resume=False, retina_masks=False, save=True, save_conf=False, save_crop=False, save_dir=models/yolo/yolov8s_mot17_det, save_frames=False, save_json=False, save_period=-1, save_txt=False, scale=0.5, seed=0, shear=0.0, show=False, show_boxes=True, show_conf=True, show_labels=True, simplify=True, single_cls=False, source=None, split=val, stream_buffer=False, task=detect, time=None, tracker=botsort.yaml, translate=0.1, val=True, verbose=True, vid_stride=1, visualize=False, warmup_bias_lr=0.1, warmup_epochs=3.0, warmup_momentum=0.8, weight_decay=0.0005, workers=8, workspace=None\n",
            "Downloading https://ultralytics.com/assets/Arial.ttf to '/root/.config/Ultralytics/Arial.ttf'...\n"
          ]
        },
        {
          "name": "stderr",
          "output_type": "stream",
          "text": [
            "100%|██████████| 755k/755k [00:00<00:00, 34.4MB/s]"
          ]
        },
        {
          "name": "stdout",
          "output_type": "stream",
          "text": [
            "Overriding model.yaml nc=80 with nc=1\n",
            "\n",
            "                   from  n    params  module                                       arguments                     \n",
            "  0                  -1  1       928  ultralytics.nn.modules.conv.Conv             [3, 32, 3, 2]                 \n",
            "  1                  -1  1     18560  ultralytics.nn.modules.conv.Conv             [32, 64, 3, 2]                \n",
            "  2                  -1  1     29056  ultralytics.nn.modules.block.C2f             [64, 64, 1, True]             \n",
            "  3                  -1  1     73984  ultralytics.nn.modules.conv.Conv             [64, 128, 3, 2]               \n",
            "  4                  -1  2    197632  ultralytics.nn.modules.block.C2f             [128, 128, 2, True]           \n",
            "  5                  -1  1    295424  ultralytics.nn.modules.conv.Conv             [128, 256, 3, 2]              \n",
            "  6                  -1  2    788480  ultralytics.nn.modules.block.C2f             [256, 256, 2, True]           \n",
            "  7                  -1  1   1180672  ultralytics.nn.modules.conv.Conv             [256, 512, 3, 2]              \n",
            "  8                  -1  1   1838080  ultralytics.nn.modules.block.C2f             [512, 512, 1, True]           \n",
            "  9                  -1  1    656896  ultralytics.nn.modules.block.SPPF            [512, 512, 5]                 \n",
            " 10                  -1  1         0  torch.nn.modules.upsampling.Upsample         [None, 2, 'nearest']          \n",
            " 11             [-1, 6]  1         0  ultralytics.nn.modules.conv.Concat           [1]                           \n",
            " 12                  -1  1    591360  ultralytics.nn.modules.block.C2f             [768, 256, 1]                 \n",
            " 13                  -1  1         0  torch.nn.modules.upsampling.Upsample         [None, 2, 'nearest']          \n",
            " 14             [-1, 4]  1         0  ultralytics.nn.modules.conv.Concat           [1]                           \n",
            " 15                  -1  1    148224  ultralytics.nn.modules.block.C2f             [384, 128, 1]                 \n",
            " 16                  -1  1    147712  ultralytics.nn.modules.conv.Conv             [128, 128, 3, 2]              \n",
            " 17            [-1, 12]  1         0  ultralytics.nn.modules.conv.Concat           [1]                           \n",
            " 18                  -1  1    493056  ultralytics.nn.modules.block.C2f             [384, 256, 1]                 \n",
            " 19                  -1  1    590336  ultralytics.nn.modules.conv.Conv             [256, 256, 3, 2]              \n",
            " 20             [-1, 9]  1         0  ultralytics.nn.modules.conv.Concat           [1]                           \n",
            " 21                  -1  1   1969152  ultralytics.nn.modules.block.C2f             [768, 512, 1]                 \n"
          ]
        },
        {
          "name": "stderr",
          "output_type": "stream",
          "text": [
            "\n"
          ]
        },
        {
          "name": "stdout",
          "output_type": "stream",
          "text": [
            " 22        [15, 18, 21]  1   2116435  ultralytics.nn.modules.head.Detect           [1, [128, 256, 512]]          \n",
            "Model summary: 129 layers, 11,135,987 parameters, 11,135,971 gradients, 28.6 GFLOPs\n",
            "\n",
            "Transferred 349/355 items from pretrained weights\n",
            "Freezing layer 'model.22.dfl.conv.weight'\n",
            "\u001b[34m\u001b[1mAMP: \u001b[0mrunning Automatic Mixed Precision (AMP) checks...\n",
            "Downloading https://github.com/ultralytics/assets/releases/download/v8.3.0/yolo11n.pt to 'yolo11n.pt'...\n"
          ]
        },
        {
          "name": "stderr",
          "output_type": "stream",
          "text": [
            "100%|██████████| 5.35M/5.35M [00:00<00:00, 146MB/s]\n"
          ]
        },
        {
          "name": "stdout",
          "output_type": "stream",
          "text": [
            "\u001b[34m\u001b[1mAMP: \u001b[0mchecks passed ✅\n",
            "\u001b[34m\u001b[1mtrain: \u001b[0mFast image access ✅ (ping: 0.0±0.0 ms, read: 42.7±11.7 MB/s, size: 124.0 KB)\n"
          ]
        },
        {
          "name": "stderr",
          "output_type": "stream",
          "text": [
            "\u001b[34m\u001b[1mtrain: \u001b[0mScanning /content/MOT17/train/labels... 5316 images, 0 backgrounds, 0 corrupt: 100%|██████████| 5316/5316 [00:11<00:00, 450.15it/s]\n"
          ]
        },
        {
          "name": "stdout",
          "output_type": "stream",
          "text": [
            "\u001b[34m\u001b[1mtrain: \u001b[0mNew cache created: /content/MOT17/train/labels.cache\n",
            "\u001b[34m\u001b[1malbumentations: \u001b[0mBlur(p=0.01, blur_limit=(3, 7)), MedianBlur(p=0.01, blur_limit=(3, 7)), ToGray(p=0.01, method='weighted_average', num_output_channels=3), CLAHE(p=0.01, clip_limit=(1.0, 4.0), tile_grid_size=(8, 8))\n",
            "\u001b[34m\u001b[1mAutoBatch: \u001b[0mComputing optimal batch size for imgsz=640 at 60.0% CUDA memory utilization.\n",
            "\u001b[34m\u001b[1mAutoBatch: \u001b[0mCUDA:0 (Tesla T4) 14.74G total, 0.13G reserved, 0.12G allocated, 14.49G free\n",
            "      Params      GFLOPs  GPU_mem (GB)  forward (ms) backward (ms)                   input                  output\n",
            "    11135987       28.65         0.833         48.67         385.2        (1, 3, 640, 640)                    list\n",
            "    11135987       57.29         1.105         26.64         94.74        (2, 3, 640, 640)                    list\n",
            "    11135987       114.6         1.638          30.9         87.72        (4, 3, 640, 640)                    list\n",
            "    11135987       229.2         2.630         45.75         94.86        (8, 3, 640, 640)                    list\n",
            "    11135987       458.4         4.706         75.44         138.8       (16, 3, 640, 640)                    list\n",
            "\u001b[34m\u001b[1mAutoBatch: \u001b[0mUsing batch-size 32 for CUDA:0 9.07G/14.74G (62%) ✅\n",
            "\u001b[34m\u001b[1mtrain: \u001b[0mFast image access ✅ (ping: 0.0±0.0 ms, read: 122.1±40.5 MB/s, size: 137.1 KB)\n"
          ]
        },
        {
          "name": "stderr",
          "output_type": "stream",
          "text": [
            "\u001b[34m\u001b[1mtrain: \u001b[0mScanning /content/MOT17/train/labels.cache... 5316 images, 0 backgrounds, 0 corrupt: 100%|██████████| 5316/5316 [00:00<?, ?it/s]"
          ]
        },
        {
          "name": "stdout",
          "output_type": "stream",
          "text": [
            "\u001b[34m\u001b[1malbumentations: \u001b[0mBlur(p=0.01, blur_limit=(3, 7)), MedianBlur(p=0.01, blur_limit=(3, 7)), ToGray(p=0.01, method='weighted_average', num_output_channels=3), CLAHE(p=0.01, clip_limit=(1.0, 4.0), tile_grid_size=(8, 8))\n"
          ]
        },
        {
          "name": "stderr",
          "output_type": "stream",
          "text": [
            "\n"
          ]
        },
        {
          "name": "stdout",
          "output_type": "stream",
          "text": [
            "\u001b[34m\u001b[1mval: \u001b[0mFast image access ✅ (ping: 0.1±0.1 ms, read: 40.7±22.6 MB/s, size: 185.4 KB)\n"
          ]
        },
        {
          "name": "stderr",
          "output_type": "stream",
          "text": [
            "\u001b[34m\u001b[1mval: \u001b[0mScanning /content/MOT17/test/labels... 5908 images, 11 backgrounds, 0 corrupt: 100%|██████████| 5919/5919 [00:13<00:00, 435.58it/s]\n"
          ]
        },
        {
          "name": "stdout",
          "output_type": "stream",
          "text": [
            "\u001b[34m\u001b[1mval: \u001b[0mNew cache created: /content/MOT17/test/labels.cache\n",
            "Plotting labels to models/yolo/yolov8s_mot17_det/labels.jpg... \n",
            "\u001b[34m\u001b[1moptimizer:\u001b[0m 'optimizer=auto' found, ignoring 'lr0=0.01' and 'momentum=0.937' and determining best 'optimizer', 'lr0' and 'momentum' automatically... \n",
            "\u001b[34m\u001b[1moptimizer:\u001b[0m AdamW(lr=0.002, momentum=0.9) with parameter groups 57 weight(decay=0.0), 64 weight(decay=0.0005), 63 bias(decay=0.0)\n",
            "Image sizes 640 train, 640 val\n",
            "Using 2 dataloader workers\n",
            "Logging results to \u001b[1mmodels/yolo/yolov8s_mot17_det\u001b[0m\n",
            "Starting training for 30 epochs...\n",
            "\n",
            "      Epoch    GPU_mem   box_loss   cls_loss   dfl_loss  Instances       Size\n"
          ]
        },
        {
          "name": "stderr",
          "output_type": "stream",
          "text": [
            "       1/30      7.61G      1.102       0.73     0.9627        122        640: 100%|██████████| 167/167 [02:23<00:00,  1.17it/s]\n",
            "                 Class     Images  Instances      Box(P          R      mAP50  mAP50-95): 100%|██████████| 93/93 [01:25<00:00,  1.09it/s]\n"
          ]
        },
        {
          "name": "stdout",
          "output_type": "stream",
          "text": [
            "                   all       5919     110141      0.848      0.775      0.858      0.559\n",
            "\n",
            "      Epoch    GPU_mem   box_loss   cls_loss   dfl_loss  Instances       Size\n"
          ]
        },
        {
          "name": "stderr",
          "output_type": "stream",
          "text": [
            "       2/30      7.81G     0.9952     0.5984     0.9312         46        640: 100%|██████████| 167/167 [02:13<00:00,  1.25it/s]\n",
            "                 Class     Images  Instances      Box(P          R      mAP50  mAP50-95): 100%|██████████| 93/93 [01:19<00:00,  1.17it/s]\n"
          ]
        },
        {
          "name": "stdout",
          "output_type": "stream",
          "text": [
            "                   all       5919     110141      0.868      0.803       0.89      0.577\n",
            "\n",
            "      Epoch    GPU_mem   box_loss   cls_loss   dfl_loss  Instances       Size\n"
          ]
        },
        {
          "name": "stderr",
          "output_type": "stream",
          "text": [
            "       3/30      8.33G     0.9435     0.5651     0.9174        132        640: 100%|██████████| 167/167 [02:12<00:00,  1.26it/s]\n",
            "                 Class     Images  Instances      Box(P          R      mAP50  mAP50-95): 100%|██████████| 93/93 [01:16<00:00,  1.21it/s]\n"
          ]
        },
        {
          "name": "stdout",
          "output_type": "stream",
          "text": [
            "                   all       5919     110141      0.867      0.805      0.891      0.572\n",
            "\n",
            "      Epoch    GPU_mem   box_loss   cls_loss   dfl_loss  Instances       Size\n"
          ]
        },
        {
          "name": "stderr",
          "output_type": "stream",
          "text": [
            "       4/30      8.93G     0.9318     0.5474     0.9152        149        640: 100%|██████████| 167/167 [02:22<00:00,  1.17it/s]\n",
            "                 Class     Images  Instances      Box(P          R      mAP50  mAP50-95): 100%|██████████| 93/93 [01:17<00:00,  1.21it/s]\n"
          ]
        },
        {
          "name": "stdout",
          "output_type": "stream",
          "text": [
            "                   all       5919     110141      0.878      0.815      0.903      0.602\n",
            "\n",
            "      Epoch    GPU_mem   box_loss   cls_loss   dfl_loss  Instances       Size\n"
          ]
        },
        {
          "name": "stderr",
          "output_type": "stream",
          "text": [
            "       5/30      9.08G     0.8746     0.5105     0.9017        106        640: 100%|██████████| 167/167 [02:09<00:00,  1.29it/s]\n",
            "                 Class     Images  Instances      Box(P          R      mAP50  mAP50-95): 100%|██████████| 93/93 [01:20<00:00,  1.16it/s]\n"
          ]
        },
        {
          "name": "stdout",
          "output_type": "stream",
          "text": [
            "                   all       5919     110141      0.878      0.815      0.893      0.597\n",
            "\n",
            "      Epoch    GPU_mem   box_loss   cls_loss   dfl_loss  Instances       Size\n"
          ]
        },
        {
          "name": "stderr",
          "output_type": "stream",
          "text": [
            "       6/30       8.7G      0.842     0.4916     0.8938        131        640: 100%|██████████| 167/167 [02:16<00:00,  1.23it/s]\n",
            "                 Class     Images  Instances      Box(P          R      mAP50  mAP50-95): 100%|██████████| 93/93 [01:17<00:00,  1.20it/s]\n"
          ]
        },
        {
          "name": "stdout",
          "output_type": "stream",
          "text": [
            "                   all       5919     110141      0.888      0.816      0.903      0.603\n",
            "\n",
            "      Epoch    GPU_mem   box_loss   cls_loss   dfl_loss  Instances       Size\n"
          ]
        },
        {
          "name": "stderr",
          "output_type": "stream",
          "text": [
            "       7/30      8.08G     0.8184     0.4756     0.8883         77        640: 100%|██████████| 167/167 [02:10<00:00,  1.28it/s]\n",
            "                 Class     Images  Instances      Box(P          R      mAP50  mAP50-95): 100%|██████████| 93/93 [01:17<00:00,  1.19it/s]\n"
          ]
        },
        {
          "name": "stdout",
          "output_type": "stream",
          "text": [
            "                   all       5919     110141      0.889      0.814      0.905      0.603\n",
            "\n",
            "      Epoch    GPU_mem   box_loss   cls_loss   dfl_loss  Instances       Size\n"
          ]
        },
        {
          "name": "stderr",
          "output_type": "stream",
          "text": [
            "       8/30      8.28G     0.8098     0.4713     0.8873         43        640: 100%|██████████| 167/167 [02:10<00:00,  1.28it/s]\n",
            "                 Class     Images  Instances      Box(P          R      mAP50  mAP50-95): 100%|██████████| 93/93 [01:17<00:00,  1.20it/s]\n"
          ]
        },
        {
          "name": "stdout",
          "output_type": "stream",
          "text": [
            "                   all       5919     110141      0.891      0.808        0.9      0.602\n",
            "\n",
            "      Epoch    GPU_mem   box_loss   cls_loss   dfl_loss  Instances       Size\n"
          ]
        },
        {
          "name": "stderr",
          "output_type": "stream",
          "text": [
            "       9/30       8.4G     0.7749     0.4456     0.8773         83        640: 100%|██████████| 167/167 [02:11<00:00,  1.27it/s]\n",
            "                 Class     Images  Instances      Box(P          R      mAP50  mAP50-95): 100%|██████████| 93/93 [01:18<00:00,  1.18it/s]\n"
          ]
        },
        {
          "name": "stdout",
          "output_type": "stream",
          "text": [
            "                   all       5919     110141      0.882       0.81      0.894      0.606\n",
            "\n",
            "      Epoch    GPU_mem   box_loss   cls_loss   dfl_loss  Instances       Size\n"
          ]
        },
        {
          "name": "stderr",
          "output_type": "stream",
          "text": [
            "      10/30      7.65G     0.7607     0.4387     0.8752         76        640: 100%|██████████| 167/167 [02:11<00:00,  1.27it/s]\n",
            "                 Class     Images  Instances      Box(P          R      mAP50  mAP50-95): 100%|██████████| 93/93 [01:19<00:00,  1.18it/s]\n"
          ]
        },
        {
          "name": "stdout",
          "output_type": "stream",
          "text": [
            "                   all       5919     110141      0.897      0.827      0.915      0.622\n",
            "\n",
            "      Epoch    GPU_mem   box_loss   cls_loss   dfl_loss  Instances       Size\n"
          ]
        },
        {
          "name": "stderr",
          "output_type": "stream",
          "text": [
            "      11/30      8.91G     0.7448     0.4267     0.8708         97        640: 100%|██████████| 167/167 [02:12<00:00,  1.26it/s]\n",
            "                 Class     Images  Instances      Box(P          R      mAP50  mAP50-95): 100%|██████████| 93/93 [01:17<00:00,  1.20it/s]\n"
          ]
        },
        {
          "name": "stdout",
          "output_type": "stream",
          "text": [
            "                   all       5919     110141      0.892      0.825      0.905      0.621\n",
            "\n",
            "      Epoch    GPU_mem   box_loss   cls_loss   dfl_loss  Instances       Size\n"
          ]
        },
        {
          "name": "stderr",
          "output_type": "stream",
          "text": [
            "      12/30      8.57G     0.7397      0.423     0.8701         66        640: 100%|██████████| 167/167 [02:12<00:00,  1.26it/s]\n",
            "                 Class     Images  Instances      Box(P          R      mAP50  mAP50-95): 100%|██████████| 93/93 [01:16<00:00,  1.21it/s]\n"
          ]
        },
        {
          "name": "stdout",
          "output_type": "stream",
          "text": [
            "                   all       5919     110141      0.885      0.836      0.906      0.627\n",
            "\n",
            "      Epoch    GPU_mem   box_loss   cls_loss   dfl_loss  Instances       Size\n"
          ]
        },
        {
          "name": "stderr",
          "output_type": "stream",
          "text": [
            "      13/30      8.95G     0.7197       0.41     0.8643         74        640: 100%|██████████| 167/167 [02:10<00:00,  1.28it/s]\n",
            "                 Class     Images  Instances      Box(P          R      mAP50  mAP50-95): 100%|██████████| 93/93 [01:18<00:00,  1.18it/s]\n"
          ]
        },
        {
          "name": "stdout",
          "output_type": "stream",
          "text": [
            "                   all       5919     110141      0.894      0.829      0.917      0.625\n",
            "\n",
            "      Epoch    GPU_mem   box_loss   cls_loss   dfl_loss  Instances       Size\n"
          ]
        },
        {
          "name": "stderr",
          "output_type": "stream",
          "text": [
            "      14/30         9G     0.7097     0.4043     0.8633         60        640: 100%|██████████| 167/167 [02:11<00:00,  1.27it/s]\n",
            "                 Class     Images  Instances      Box(P          R      mAP50  mAP50-95): 100%|██████████| 93/93 [01:27<00:00,  1.06it/s]\n"
          ]
        },
        {
          "name": "stdout",
          "output_type": "stream",
          "text": [
            "                   all       5919     110141      0.899       0.82       0.91       0.63\n",
            "\n",
            "      Epoch    GPU_mem   box_loss   cls_loss   dfl_loss  Instances       Size\n"
          ]
        },
        {
          "name": "stderr",
          "output_type": "stream",
          "text": [
            "      15/30      7.41G     0.6929     0.3961     0.8596         88        640: 100%|██████████| 167/167 [02:11<00:00,  1.27it/s]\n",
            "                 Class     Images  Instances      Box(P          R      mAP50  mAP50-95): 100%|██████████| 93/93 [01:18<00:00,  1.18it/s]\n"
          ]
        },
        {
          "name": "stdout",
          "output_type": "stream",
          "text": [
            "                   all       5919     110141      0.891      0.839      0.915      0.641\n",
            "\n",
            "      Epoch    GPU_mem   box_loss   cls_loss   dfl_loss  Instances       Size\n"
          ]
        },
        {
          "name": "stderr",
          "output_type": "stream",
          "text": [
            "      16/30      7.67G     0.6717     0.3833     0.8545        107        640: 100%|██████████| 167/167 [02:10<00:00,  1.28it/s]\n",
            "                 Class     Images  Instances      Box(P          R      mAP50  mAP50-95): 100%|██████████| 93/93 [01:18<00:00,  1.19it/s]\n"
          ]
        },
        {
          "name": "stdout",
          "output_type": "stream",
          "text": [
            "                   all       5919     110141      0.893      0.815      0.904      0.622\n",
            "\n",
            "      Epoch    GPU_mem   box_loss   cls_loss   dfl_loss  Instances       Size\n"
          ]
        },
        {
          "name": "stderr",
          "output_type": "stream",
          "text": [
            "      17/30      7.62G       0.67     0.3815     0.8538         95        640: 100%|██████████| 167/167 [02:12<00:00,  1.26it/s]\n",
            "                 Class     Images  Instances      Box(P          R      mAP50  mAP50-95): 100%|██████████| 93/93 [01:17<00:00,  1.20it/s]\n"
          ]
        },
        {
          "name": "stdout",
          "output_type": "stream",
          "text": [
            "                   all       5919     110141      0.894      0.831       0.91      0.637\n",
            "\n",
            "      Epoch    GPU_mem   box_loss   cls_loss   dfl_loss  Instances       Size\n"
          ]
        },
        {
          "name": "stderr",
          "output_type": "stream",
          "text": [
            "      18/30      8.03G     0.6561     0.3725      0.852         73        640: 100%|██████████| 167/167 [02:10<00:00,  1.28it/s]\n",
            "                 Class     Images  Instances      Box(P          R      mAP50  mAP50-95): 100%|██████████| 93/93 [01:18<00:00,  1.18it/s]\n"
          ]
        },
        {
          "name": "stdout",
          "output_type": "stream",
          "text": [
            "                   all       5919     110141      0.896       0.81      0.901      0.633\n",
            "\n",
            "      Epoch    GPU_mem   box_loss   cls_loss   dfl_loss  Instances       Size\n"
          ]
        },
        {
          "name": "stderr",
          "output_type": "stream",
          "text": [
            "      19/30       7.3G     0.6484     0.3684     0.8513         95        640: 100%|██████████| 167/167 [02:11<00:00,  1.27it/s]\n",
            "                 Class     Images  Instances      Box(P          R      mAP50  mAP50-95): 100%|██████████| 93/93 [01:18<00:00,  1.19it/s]\n"
          ]
        },
        {
          "name": "stdout",
          "output_type": "stream",
          "text": [
            "                   all       5919     110141      0.895      0.826       0.91      0.636\n",
            "\n",
            "      Epoch    GPU_mem   box_loss   cls_loss   dfl_loss  Instances       Size\n"
          ]
        },
        {
          "name": "stderr",
          "output_type": "stream",
          "text": [
            "      20/30      9.35G     0.6444     0.3647     0.8489        104        640: 100%|██████████| 167/167 [02:14<00:00,  1.24it/s]\n",
            "                 Class     Images  Instances      Box(P          R      mAP50  mAP50-95): 100%|██████████| 93/93 [01:17<00:00,  1.19it/s]\n"
          ]
        },
        {
          "name": "stdout",
          "output_type": "stream",
          "text": [
            "                   all       5919     110141      0.897      0.826      0.912      0.637\n",
            "Closing dataloader mosaic\n",
            "\u001b[34m\u001b[1malbumentations: \u001b[0mBlur(p=0.01, blur_limit=(3, 7)), MedianBlur(p=0.01, blur_limit=(3, 7)), ToGray(p=0.01, method='weighted_average', num_output_channels=3), CLAHE(p=0.01, clip_limit=(1.0, 4.0), tile_grid_size=(8, 8))\n",
            "\n",
            "      Epoch    GPU_mem   box_loss   cls_loss   dfl_loss  Instances       Size\n"
          ]
        },
        {
          "name": "stderr",
          "output_type": "stream",
          "text": [
            "      21/30      7.07G      0.621     0.3507     0.8364         68        640: 100%|██████████| 167/167 [02:10<00:00,  1.28it/s]\n",
            "                 Class     Images  Instances      Box(P          R      mAP50  mAP50-95): 100%|██████████| 93/93 [01:18<00:00,  1.18it/s]\n"
          ]
        },
        {
          "name": "stdout",
          "output_type": "stream",
          "text": [
            "                   all       5919     110141      0.893      0.819      0.906      0.646\n",
            "\n",
            "      Epoch    GPU_mem   box_loss   cls_loss   dfl_loss  Instances       Size\n"
          ]
        },
        {
          "name": "stderr",
          "output_type": "stream",
          "text": [
            "      22/30      7.32G     0.6075     0.3447     0.8327         32        640: 100%|██████████| 167/167 [02:06<00:00,  1.32it/s]\n",
            "                 Class     Images  Instances      Box(P          R      mAP50  mAP50-95): 100%|██████████| 93/93 [01:17<00:00,  1.19it/s]\n"
          ]
        },
        {
          "name": "stdout",
          "output_type": "stream",
          "text": [
            "                   all       5919     110141      0.899      0.819      0.913      0.644\n",
            "\n",
            "      Epoch    GPU_mem   box_loss   cls_loss   dfl_loss  Instances       Size\n"
          ]
        },
        {
          "name": "stderr",
          "output_type": "stream",
          "text": [
            "      23/30      6.78G     0.5966     0.3369       0.83         36        640: 100%|██████████| 167/167 [02:07<00:00,  1.31it/s]\n",
            "                 Class     Images  Instances      Box(P          R      mAP50  mAP50-95): 100%|██████████| 93/93 [01:18<00:00,  1.18it/s]\n"
          ]
        },
        {
          "name": "stdout",
          "output_type": "stream",
          "text": [
            "                   all       5919     110141      0.899      0.812      0.902      0.632\n",
            "\n",
            "      Epoch    GPU_mem   box_loss   cls_loss   dfl_loss  Instances       Size\n"
          ]
        },
        {
          "name": "stderr",
          "output_type": "stream",
          "text": [
            "      24/30      7.03G     0.5802     0.3271     0.8273         44        640: 100%|██████████| 167/167 [02:13<00:00,  1.25it/s]\n",
            "                 Class     Images  Instances      Box(P          R      mAP50  mAP50-95): 100%|██████████| 93/93 [01:17<00:00,  1.20it/s]\n"
          ]
        },
        {
          "name": "stdout",
          "output_type": "stream",
          "text": [
            "                   all       5919     110141      0.908      0.813      0.907      0.642\n",
            "\n",
            "      Epoch    GPU_mem   box_loss   cls_loss   dfl_loss  Instances       Size\n"
          ]
        },
        {
          "name": "stderr",
          "output_type": "stream",
          "text": [
            "      25/30      7.07G     0.5669     0.3197     0.8252         54        640: 100%|██████████| 167/167 [02:04<00:00,  1.34it/s]\n",
            "                 Class     Images  Instances      Box(P          R      mAP50  mAP50-95): 100%|██████████| 93/93 [01:17<00:00,  1.21it/s]\n"
          ]
        },
        {
          "name": "stdout",
          "output_type": "stream",
          "text": [
            "                   all       5919     110141      0.904      0.805      0.902      0.647\n",
            "\n",
            "      Epoch    GPU_mem   box_loss   cls_loss   dfl_loss  Instances       Size\n"
          ]
        },
        {
          "name": "stderr",
          "output_type": "stream",
          "text": [
            "      26/30      7.03G     0.5511     0.3106      0.822         66        640: 100%|██████████| 167/167 [02:04<00:00,  1.34it/s]\n",
            "                 Class     Images  Instances      Box(P          R      mAP50  mAP50-95): 100%|██████████| 93/93 [01:17<00:00,  1.19it/s]\n"
          ]
        },
        {
          "name": "stdout",
          "output_type": "stream",
          "text": [
            "                   all       5919     110141      0.902      0.806      0.902      0.645\n",
            "\n",
            "      Epoch    GPU_mem   box_loss   cls_loss   dfl_loss  Instances       Size\n"
          ]
        },
        {
          "name": "stderr",
          "output_type": "stream",
          "text": [
            "      27/30      7.04G     0.5428      0.305     0.8192         44        640: 100%|██████████| 167/167 [02:06<00:00,  1.32it/s]\n",
            "                 Class     Images  Instances      Box(P          R      mAP50  mAP50-95): 100%|██████████| 93/93 [01:26<00:00,  1.08it/s]\n"
          ]
        },
        {
          "name": "stdout",
          "output_type": "stream",
          "text": [
            "                   all       5919     110141      0.904      0.817      0.904      0.647\n",
            "\n",
            "      Epoch    GPU_mem   box_loss   cls_loss   dfl_loss  Instances       Size\n"
          ]
        },
        {
          "name": "stderr",
          "output_type": "stream",
          "text": [
            "      28/30      7.03G     0.5322     0.2982     0.8185         55        640: 100%|██████████| 167/167 [02:14<00:00,  1.24it/s]\n",
            "                 Class     Images  Instances      Box(P          R      mAP50  mAP50-95): 100%|██████████| 93/93 [01:18<00:00,  1.18it/s]\n"
          ]
        },
        {
          "name": "stdout",
          "output_type": "stream",
          "text": [
            "                   all       5919     110141      0.905      0.817      0.905      0.648\n",
            "\n",
            "      Epoch    GPU_mem   box_loss   cls_loss   dfl_loss  Instances       Size\n"
          ]
        },
        {
          "name": "stderr",
          "output_type": "stream",
          "text": [
            "      29/30      6.84G     0.5235     0.2939     0.8173         34        640: 100%|██████████| 167/167 [02:07<00:00,  1.31it/s]\n",
            "                 Class     Images  Instances      Box(P          R      mAP50  mAP50-95): 100%|██████████| 93/93 [01:17<00:00,  1.19it/s]\n"
          ]
        },
        {
          "name": "stdout",
          "output_type": "stream",
          "text": [
            "                   all       5919     110141      0.907      0.808      0.904      0.649\n",
            "\n",
            "      Epoch    GPU_mem   box_loss   cls_loss   dfl_loss  Instances       Size\n"
          ]
        },
        {
          "name": "stderr",
          "output_type": "stream",
          "text": [
            "      30/30      6.73G     0.5084     0.2856     0.8142         58        640: 100%|██████████| 167/167 [02:06<00:00,  1.33it/s]\n",
            "                 Class     Images  Instances      Box(P          R      mAP50  mAP50-95): 100%|██████████| 93/93 [01:19<00:00,  1.17it/s]\n"
          ]
        },
        {
          "name": "stdout",
          "output_type": "stream",
          "text": [
            "                   all       5919     110141      0.911      0.806      0.904       0.65\n",
            "\n",
            "30 epochs completed in 1.776 hours.\n",
            "Optimizer stripped from models/yolo/yolov8s_mot17_det/weights/last.pt, 22.5MB\n",
            "Optimizer stripped from models/yolo/yolov8s_mot17_det/weights/best.pt, 22.5MB\n",
            "\n",
            "Validating models/yolo/yolov8s_mot17_det/weights/best.pt...\n",
            "Ultralytics 8.3.139 🚀 Python-3.11.12 torch-2.6.0+cu124 CUDA:0 (Tesla T4, 15095MiB)\n",
            "Model summary (fused): 72 layers, 11,125,971 parameters, 0 gradients, 28.4 GFLOPs\n"
          ]
        },
        {
          "name": "stderr",
          "output_type": "stream",
          "text": [
            "                 Class     Images  Instances      Box(P          R      mAP50  mAP50-95): 100%|██████████| 93/93 [01:34<00:00,  1.02s/it]\n"
          ]
        },
        {
          "name": "stdout",
          "output_type": "stream",
          "text": [
            "                   all       5919     110141      0.911      0.806      0.904       0.65\n",
            "Speed: 0.2ms preprocess, 2.6ms inference, 0.0ms loss, 2.5ms postprocess per image\n",
            "Results saved to \u001b[1mmodels/yolo/yolov8s_mot17_det\u001b[0m\n"
          ]
        }
      ],
      "source": [
        "from ultralytics import YOLO\n",
        "\n",
        "# Load the YOLOv8 model\n",
        "model = YOLO('yolov8s.pt')\n",
        "\n",
        "# Config\n",
        "epochs = 30\n",
        "batch_size = -1 # Auto scale based on GPU memory\n",
        "img_size = 640\n",
        "project_name = 'models/yolo'\n",
        "name = 'yolov8s_mot17_det'\n",
        "\n",
        "# Train the model\n",
        "results = model.train(\n",
        "    data=yolo_yaml_path,\n",
        "    epochs=epochs,\n",
        "    batch=batch_size,\n",
        "    imgsz=img_size,\n",
        "    project=project_name,\n",
        "    name=name\n",
        ")"
      ]
    },
    {
      "cell_type": "markdown",
      "metadata": {
        "id": "KZPM5lPdZWn9"
      },
      "source": [
        "## 6. Evaluation"
      ]
    },
    {
      "cell_type": "code",
      "execution_count": null,
      "metadata": {
        "colab": {
          "base_uri": "https://localhost:8080/"
        },
        "id": "mrEAt-SQZXyI",
        "outputId": "192e2d43-1429-430e-ef05-656311752946"
      },
      "outputs": [
        {
          "name": "stdout",
          "output_type": "stream",
          "text": [
            "Ultralytics 8.3.139 🚀 Python-3.11.12 torch-2.6.0+cu124 CUDA:0 (Tesla T4, 15095MiB)\n",
            "Model summary (fused): 72 layers, 11,125,971 parameters, 0 gradients, 28.4 GFLOPs\n",
            "\u001b[34m\u001b[1mval: \u001b[0mFast image access ✅ (ping: 0.0±0.0 ms, read: 2267.8±607.0 MB/s, size: 152.7 KB)\n"
          ]
        },
        {
          "name": "stderr",
          "output_type": "stream",
          "text": [
            "\u001b[34m\u001b[1mval: \u001b[0mScanning /content/MOT17/test/labels.cache... 5908 images, 11 backgrounds, 0 corrupt: 100%|██████████| 5919/5919 [00:00<?, ?it/s]\n",
            "                 Class     Images  Instances      Box(P          R      mAP50  mAP50-95): 100%|██████████| 370/370 [01:40<00:00,  3.70it/s]\n"
          ]
        },
        {
          "name": "stdout",
          "output_type": "stream",
          "text": [
            "                   all       5919     110141       0.91      0.807      0.904      0.651\n",
            "Speed: 0.2ms preprocess, 5.3ms inference, 0.0ms loss, 1.8ms postprocess per image\n",
            "Results saved to \u001b[1mmodels/yolo/detect/val\u001b[0m\n"
          ]
        }
      ],
      "source": [
        "from ultralytics import YOLO\n",
        "\n",
        "# Load the trained model\n",
        "model_path = os.path.join(\n",
        "    project_name, name, 'weights/best.pt'\n",
        ")\n",
        "model = YOLO(model_path)\n",
        "\n",
        "metrics = model.val(\n",
        "    project=project_name,\n",
        "    name='detect/val'\n",
        ")"
      ]
    },
    {
      "cell_type": "markdown",
      "metadata": {
        "id": "w5C_59wViz1B"
      },
      "source": [
        "## 7. Test"
      ]
    },
    {
      "cell_type": "code",
      "execution_count": null,
      "metadata": {
        "colab": {
          "base_uri": "https://localhost:8080/"
        },
        "id": "8naUl3hNiz1B",
        "outputId": "a078b230-2400-4468-cef2-65d43e834c33"
      },
      "outputs": [
        {
          "name": "stdout",
          "output_type": "stream",
          "text": [
            "\n",
            "image 1/1 /content/MOT17/test/images/MOT17-01-FRCNN_000001.jpg: 384x640 7 objectss, 51.2ms\n",
            "Speed: 3.3ms preprocess, 51.2ms inference, 1.8ms postprocess per image at shape (1, 3, 384, 640)\n",
            "Results saved to \u001b[1mmodels/yolo/detect/predict\u001b[0m\n"
          ]
        }
      ],
      "source": [
        "sample_path = 'MOT17/test/images/MOT17-01-FRCNN_000001.jpg'\n",
        "results = model.predict(\n",
        "    sample_path,\n",
        "    project=project_name,\n",
        "    name='detect/predict',\n",
        "    save=True\n",
        ")"
      ]
    }
  ],
  "metadata": {
    "accelerator": "GPU",
    "colab": {
      "gpuType": "T4",
      "provenance": []
    },
    "kernelspec": {
      "display_name": "Python 3",
      "name": "python3"
    },
    "language_info": {
      "codemirror_mode": {
        "name": "ipython",
        "version": 3
      },
      "file_extension": ".py",
      "mimetype": "text/x-python",
      "name": "python",
      "nbconvert_exporter": "python",
      "pygments_lexer": "ipython3",
      "version": "3.11.1"
    }
  },
  "nbformat": 4,
  "nbformat_minor": 0
}
